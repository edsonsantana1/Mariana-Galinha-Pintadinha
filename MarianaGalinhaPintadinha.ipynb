{
 "cells": [
  {
   "cell_type": "code",
   "execution_count": 8,
   "metadata": {},
   "outputs": [
    {
     "name": "stdout",
     "output_type": "stream",
     "text": [
      "Mariana conta um, é um\n",
      "Ana, viva a Mariana, viva a Mariana\n",
      "\n",
      "Mariana conta dois, é um, é dois\n",
      "Ana, viva a Mariana, viva a Mariana\n",
      "\n",
      "Mariana conta três, é um, é dois, é três\n",
      "Ana, viva a Mariana, viva a Mariana\n",
      "\n",
      "Mariana conta quatro, é um, é dois, é três, é quatro\n",
      "Ana, viva a Mariana, viva a Mariana\n",
      "\n",
      "Mariana conta cinco, é um, é dois, é três, é quatro, é cinco\n",
      "Ana, viva a Mariana, viva a Mariana\n",
      "\n"
     ]
    }
   ],
   "source": [
    "palavras = ['um', 'dois', 'três', 'quatro', 'cinco', 'seis', 'sete', 'oito', 'nove', 'dez']\n",
    "\n",
    "numero_inserido = int(input(\"Digite um número: \"))\n",
    "contador = 1\n",
    "\n",
    "while contador <= numero_inserido:\n",
    "    if contador <= len(palavras):\n",
    "        palavra = palavras[contador-1]\n",
    "        linha_musica = \"Mariana conta \" + palavra\n",
    "        for num in range(1, contador + 1):\n",
    "            linha_musica += \", é \" + palavras[num-1]\n",
    "    else:\n",
    "        palavra = \"número muito grande\"\n",
    "        linha_musica = \"Mariana conta \" + palavra\n",
    "    \n",
    "    linha_musica += \"\\nAna, viva a Mariana, viva a Mariana\\n\"\n",
    "    print(linha_musica)\n",
    "    contador += 1\n"
   ]
  }
 ],
 "metadata": {
  "kernelspec": {
   "display_name": "Python 3",
   "language": "python",
   "name": "python3"
  },
  "language_info": {
   "codemirror_mode": {
    "name": "ipython",
    "version": 3
   },
   "file_extension": ".py",
   "mimetype": "text/x-python",
   "name": "python",
   "nbconvert_exporter": "python",
   "pygments_lexer": "ipython3",
   "version": "3.12.3"
  }
 },
 "nbformat": 4,
 "nbformat_minor": 2
}
